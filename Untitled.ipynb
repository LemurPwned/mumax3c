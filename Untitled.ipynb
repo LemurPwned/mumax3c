{
 "cells": [
  {
   "cell_type": "code",
   "execution_count": 1,
   "metadata": {},
   "outputs": [],
   "source": [
    "import mumax3c as mc"
   ]
  },
  {
   "cell_type": "code",
   "execution_count": 2,
   "metadata": {},
   "outputs": [],
   "source": [
    "import micromagneticmodel as mm"
   ]
  },
  {
   "cell_type": "code",
   "execution_count": 30,
   "metadata": {},
   "outputs": [
    {
     "name": "stdout",
     "output_type": "stream",
     "text": [
      "Running mumax3 (ExeMumax3Runner) [2020/03/13 17:01]... (0.3 s)\n",
      "(1000000.0, -1.257553638765279e-24, -1.257553638765279e-24)\n",
      "(-1.257553638765279e-24, -1.257553638765279e-24, 1000000.0)\n"
     ]
    },
    {
     "ename": "AssertionError",
     "evalue": "",
     "output_type": "error",
     "traceback": [
      "\u001b[0;31m---------------------------------------------------------------------------\u001b[0m",
      "\u001b[0;31mAssertionError\u001b[0m                            Traceback (most recent call last)",
      "\u001b[0;32m<ipython-input-30-7e8aa2ef30e0>\u001b[0m in \u001b[0;36m<module>\u001b[0;34m\u001b[0m\n\u001b[1;32m     28\u001b[0m \u001b[0mvalue1\u001b[0m \u001b[0;34m=\u001b[0m \u001b[0msystem\u001b[0m\u001b[0;34m.\u001b[0m\u001b[0mm\u001b[0m\u001b[0;34m(\u001b[0m\u001b[0;34m(\u001b[0m\u001b[0;36m1e-9\u001b[0m\u001b[0;34m,\u001b[0m \u001b[0;34m-\u001b[0m\u001b[0;36m4e-9\u001b[0m\u001b[0;34m,\u001b[0m \u001b[0;36m2e-9\u001b[0m\u001b[0;34m)\u001b[0m\u001b[0;34m)\u001b[0m\u001b[0;34m\u001b[0m\u001b[0;34m\u001b[0m\u001b[0m\n\u001b[1;32m     29\u001b[0m \u001b[0mvalue2\u001b[0m \u001b[0;34m=\u001b[0m \u001b[0msystem\u001b[0m\u001b[0;34m.\u001b[0m\u001b[0mm\u001b[0m\u001b[0;34m(\u001b[0m\u001b[0;34m(\u001b[0m\u001b[0;36m1e-9\u001b[0m\u001b[0;34m,\u001b[0m \u001b[0;34m-\u001b[0m\u001b[0;36m2e-9\u001b[0m\u001b[0;34m,\u001b[0m \u001b[0;36m2e-9\u001b[0m\u001b[0;34m)\u001b[0m\u001b[0;34m)\u001b[0m\u001b[0;34m\u001b[0m\u001b[0;34m\u001b[0m\u001b[0m\n\u001b[0;32m---> 30\u001b[0;31m \u001b[0;32massert\u001b[0m \u001b[0mnp\u001b[0m\u001b[0;34m.\u001b[0m\u001b[0mlinalg\u001b[0m\u001b[0;34m.\u001b[0m\u001b[0mnorm\u001b[0m\u001b[0;34m(\u001b[0m\u001b[0mnp\u001b[0m\u001b[0;34m.\u001b[0m\u001b[0msubtract\u001b[0m\u001b[0;34m(\u001b[0m\u001b[0mvalue1\u001b[0m\u001b[0;34m,\u001b[0m \u001b[0mvalue2\u001b[0m\u001b[0;34m)\u001b[0m\u001b[0;34m)\u001b[0m \u001b[0;34m>\u001b[0m \u001b[0;36m1\u001b[0m\u001b[0;34m\u001b[0m\u001b[0;34m\u001b[0m\u001b[0m\n\u001b[0m\u001b[1;32m     31\u001b[0m \u001b[0;34m\u001b[0m\u001b[0m\n\u001b[1;32m     32\u001b[0m \u001b[0;31m# A!=0 region\u001b[0m\u001b[0;34m\u001b[0m\u001b[0;34m\u001b[0m\u001b[0;34m\u001b[0m\u001b[0m\n",
      "\u001b[0;31mAssertionError\u001b[0m: "
     ]
    }
   ],
   "source": [
    "name = 'exchange_dict'\n",
    "\n",
    "p1 = (-5e-9, -5e-9, -3e-9)\n",
    "p2 = (5e-9, 5e-9, 3e-9)\n",
    "region = df.Region(p1=p1, p2=p2)\n",
    "n = (10, 10, 6)\n",
    "subregions = {'r1': df.Region(p1=(-5e-9, -5e-9, -3e-9),\n",
    "                                   p2=(5e-9, 0, 3e-9)),\n",
    "                   'r2': df.Region(p1=(-5e-9, 0, -3e-9),\n",
    "                                   p2=(5e-9, 5e-9, 3e-9))}\n",
    "        \n",
    "H = {'r1': (1e5, 0, 0), 'r2': (0, 0, 1e5)}\n",
    "Ms = 1e6\n",
    "\n",
    "system = mm.System(name=name)\n",
    "system.energy = mm.Zeeman(H=H)\n",
    "\n",
    "mesh = df.Mesh(region=region, n=n,\n",
    "               subregions=subregions)\n",
    "system.m = df.Field(mesh, dim=3, value=(1, 1, 1), norm=Ms)\n",
    "\n",
    "md.drive(system, save=True, overwrite=True)\n",
    "\n",
    "print(system.m['r1'].average)\n",
    "print(system.m['r2'].average)\n",
    "\n",
    "# A=0 region\n",
    "value1 = system.m((1e-9, -4e-9, 2e-9))\n",
    "value2 = system.m((1e-9, -2e-9, 2e-9))\n",
    "assert np.linalg.norm(np.subtract(value1, value2)) > 1\n",
    "\n",
    "# A!=0 region\n",
    "\n",
    "assert np.linalg.norm(np.subtract(value1, value2)) < 1"
   ]
  },
  {
   "cell_type": "code",
   "execution_count": 18,
   "metadata": {},
   "outputs": [
    {
     "data": {
      "image/png": "[encoded data removed]",
      "text/plain": [
       "<Figure size 432x288 with 2 Axes>"
      ]
     },
     "metadata": {
      "needs_background": "light"
     },
     "output_type": "display_data"
    }
   ],
   "source": [
    "system.m.plane('x').mpl()"
   ]
  },
  {
   "cell_type": "code",
   "execution_count": null,
   "metadata": {},
   "outputs": [],
   "source": []
  }
 ],
 "metadata": {
  "kernelspec": {
   "display_name": "Python 3",
   "language": "python",
   "name": "python3"
  },
  "language_info": {
   "codemirror_mode": {
    "name": "ipython",
    "version": 3
   },
   "file_extension": ".py",
   "mimetype": "text/x-python",
   "name": "python",
   "nbconvert_exporter": "python",
   "pygments_lexer": "ipython3",
   "version": "3.7.6"
  },
  "widgets": {
   "application/vnd.jupyter.widget-state+json": {
    "state": {},
    "version_major": 2,
    "version_minor": 0
   }
  }
 },
 "nbformat": 4,
 "nbformat_minor": 4
}
